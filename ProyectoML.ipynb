{
  "nbformat": 4,
  "nbformat_minor": 0,
  "metadata": {
    "colab": {
      "provenance": [],
      "gpuType": "T4"
    },
    "kernelspec": {
      "name": "python3",
      "display_name": "Python 3"
    },
    "language_info": {
      "name": "python"
    },
    "accelerator": "GPU"
  },
  "cells": [
    {
      "cell_type": "markdown",
      "source": [
        "# Proyecto de Aprendizaje de Máquina Aplicado\n",
        "\n"
      ],
      "metadata": {
        "id": "S-7Jw0BO2kbo"
      }
    },
    {
      "cell_type": "markdown",
      "source": [
        "## 👤 Integrantes\n",
        "\n",
        "- José Manuel Camargo Hoyos\n",
        "- John Alexander Acevedo Serna\n",
        "- Santiago Rodríguez Duque\n",
        "___"
      ],
      "metadata": {
        "id": "wuVfKm6F3r-l"
      }
    },
    {
      "cell_type": "markdown",
      "source": [
        "## 📋 Tabla de Contenidos\n",
        "\n",
        "1. **Objetivo General**\n",
        "2. **Objetivos Específicos**\n",
        "3. **Entrega 1**\n",
        "    - Comprensión del Negocio\n",
        "    - Obtención y Comprensión de Datos\n",
        "___    \n",
        "\n",
        "\n",
        "\n"
      ],
      "metadata": {
        "id": "tnUJCjkX30Lr"
      }
    },
    {
      "cell_type": "markdown",
      "source": [
        "## 🏷️ Objetivo General\n",
        "\n",
        "Desarrollar un modelo de machine learning que permita predecir si un estudiante aprobará el examen de matemáticas a partir de variables demográficas y académicas (género, nivel educativo de los padres, tipo de almuerzo, preparación previa, entre otras), con el fin de identificar tempranamente a estudiantes en riesgo académico y apoyar la toma de decisiones en intervenciones educativas.\n",
        "___"
      ],
      "metadata": {
        "id": "SimcdrRr5Fyl"
      }
    },
    {
      "cell_type": "markdown",
      "source": [
        "## 🎯 Objetivos Específicos\n",
        "\n",
        "- Analizar y caracterizar el conjunto de datos *Students Performance in Exams*, identificando la calidad de la información, variables relevantes y posibles sesgos.\n",
        "- Definir y preparar la variable objeto *pass_math*, que indica si un estudiante aprueba o no matemáticas.\n",
        "- Realizar un análisis exploratorio de datos (EDA) que permita entender patrones, correlaciones y factores asociados al desempeño.\n",
        "- Construir un modelo baseline que sirva como punto de referencia inicial.\n",
        "- Establecer métricas de evaluación adecuadas para clasificación binaria, considerando posibles desbalances de clases.\n",
        "___"
      ],
      "metadata": {
        "id": "wGPIk7sn5VX9"
      }
    },
    {
      "cell_type": "markdown",
      "source": [
        "## 1️⃣ Entrega 1"
      ],
      "metadata": {
        "id": "vtmkZn5y6U0l"
      }
    },
    {
      "cell_type": "markdown",
      "source": [
        "### 💼 Comprensión del Negocio\n",
        "\n",
        "El rendimiento en matemáticas es un indicador clave del desempeño académico y puede afectar el futuro educativo y laboral de los estudiantes. Instituciones educativas necesitan herramientas para detectar tempranamente a quienes podrían reprobar, de modo que puedan ofrecer apoyo adicional y reducir la deserción o el bajo rendimiento.\n",
        "\n",
        "En la actualidad, los docentes o coordinadores identifican estudiantes en riesgo principalmente con base en observación subjetiva o [análisis tardío de calificaciones](https://www.rededuca.net/contexto-educativo/d/desempe%C3%B1o-academico#:~:text=De%20forma%20general%20en%20el,parciales%20o%20calificaciones%20de%20tareas.). Esto puede llevar a intervenciones poco oportunas o ineficaces en el proceso y formación académica de los estudiantes.\n",
        "\n",
        "A través de este proyecto se quiere implementar aprendizaje automático para predecir si un estudiante aprobará matemáticas a partir de información disponible antes o al inicio del curso (demografía, preparación previa, tipo de almuerzo, nivel educativo de los padres...). Con un modelo predictivo se podrían priorizar recursos, tutorías y acompañamiento a quienes más lo necesitan."
      ],
      "metadata": {
        "id": "JT3PZGr8Mwki"
      }
    },
    {
      "cell_type": "markdown",
      "source": [
        "#### 📐 KPIs\n",
        "- **Métrica del Negocio:** Detectar oportunamente al menos un 80% de estudiantes que reprobaráin matemáticas antes de su examen final. (revisar)\n",
        "- **Métrica Técnica:** ??\n",
        "- **ROI:** ??"
      ],
      "metadata": {
        "id": "NoHKJ3W8J80p"
      }
    },
    {
      "cell_type": "markdown",
      "source": [
        "#### 🚗 Viabilidad\n",
        "- **¿Hay datos suficientes y de calidad?** El dataset cuenta con 1000 registros y variables relevantes sin valores nulos significativos, lo que permite entrenar modelos básicos de clasificación.\n",
        "- **¿Realmente se necesita Machine Learning?** Si se utilizaran reglas simples (por ejemplo, umbrales fijos en calificaciones previas), serían muy limitadas porque no consideran relaciones entre variables (por ejemplo, que la educación de los padres y la preparación influyan en la nota final). Usando Machine Learning se pueden capturar dichas interacciones y mejoraría la precisión.\n",
        "- **¿Existe capacidad técnica para mantener la solución?** El modelo puede desarrollarse y mantenerse usando Python, scikit-learn y Jupyter, tecnologías accesibles para un equipo académico con conocimientos básicos en ciencia de datos."
      ],
      "metadata": {
        "id": "lH28YA9NGHt3"
      }
    },
    {
      "cell_type": "markdown",
      "source": [
        "### 📊 Obtención y Comprensión de Datos"
      ],
      "metadata": {
        "id": "BXq2A9goLOoh"
      }
    },
    {
      "cell_type": "markdown",
      "source": [
        "**Origen del Dataset \"*Students Performance in Exams*\":** Notas obtenidas por estudiantes en varias asignaturas Estos datos se basan en la demografía de la población. Los datos contienen varias características como el tipo de comida que se le da al estudiante, el nivel de preparación para el examen, el nivel de educación de los padres y el rendimiento de los estudiantes en Matemáticas, Lectura y Escritura."
      ],
      "metadata": {
        "id": "oI3ZrEVmOpzT"
      }
    },
    {
      "cell_type": "markdown",
      "source": [
        "**Librerías a Utilizar**\n",
        "\n",
        "- **NumPy:** El motor matemático de Python. Maneja arrays y operaciones numéricas eficientemente\n",
        "- **Pandas:** Como Excel con superpoderes. Organiza datos en DataFrames (tablas)\n",
        "- **Matplotlib/Seaborn:** Nuestros artistas. Crean visualizaciones profesionales\n",
        "- **Scikit-learn:** La navaja suiza del ML. Contiene algoritmos, métricas y utilidades"
      ],
      "metadata": {
        "id": "yTnpCHBHCdfw"
      }
    },
    {
      "cell_type": "code",
      "execution_count": 1,
      "metadata": {
        "colab": {
          "base_uri": "https://localhost:8080/"
        },
        "id": "7T2CsHr42J3C",
        "outputId": "32d5a5cc-64c1-41be-abe0-b450cd45904f"
      },
      "outputs": [
        {
          "output_type": "stream",
          "name": "stdout",
          "text": [
            "✅ Python 3.12 instalado correctamente\n"
          ]
        }
      ],
      "source": [
        "# Configuración inicial del entorno\n",
        "import sys\n",
        "import warnings\n",
        "warnings.filterwarnings('ignore')\n",
        "\n",
        "# Verificar versión de Python\n",
        "assert sys.version_info >= (3, 7), \"Este notebook requiere Python 3.7 o superior\"\n",
        "\n",
        "print(f\"✅ Python {sys.version_info.major}.{sys.version_info.minor} instalado correctamente\")"
      ]
    },
    {
      "cell_type": "code",
      "execution_count": 17,
      "metadata": {
        "id": "F-3oEM13rVlm",
        "colab": {
          "base_uri": "https://localhost:8080/"
        },
        "outputId": "e35d2775-c542-4ffa-d72f-0cc6c0ddbeeb"
      },
      "outputs": [
        {
          "output_type": "stream",
          "name": "stdout",
          "text": [
            "✅ Librerías importadas correctamente\n"
          ]
        }
      ],
      "source": [
        "# Importar librerías necesarias\n",
        "import numpy as np\n",
        "import pandas as pd\n",
        "import matplotlib.pyplot as plt\n",
        "import seaborn as sns\n",
        "import urllib.request\n",
        "from pathlib import Path\n",
        "from scipy import stats\n",
        "\n",
        "# Configuración de visualización\n",
        "plt.style.use('seaborn-v0_8-darkgrid')\n",
        "plt.rcParams['figure.figsize'] = (12, 6)\n",
        "plt.rcParams['font.size'] = 12\n",
        "sns.set_palette(\"husl\")\n",
        "\n",
        "# Configuración de pandas\n",
        "pd.set_option('display.max_columns', None)\n",
        "pd.set_option('display.max_rows', 100)\n",
        "pd.set_option('display.float_format', '{:.2f}'.format)\n",
        "\n",
        "print(\"✅ Librerías importadas correctamente\")"
      ]
    },
    {
      "cell_type": "markdown",
      "source": [
        "**Carga de Datos al Notebook**"
      ],
      "metadata": {
        "id": "cE8J6lGzQ4w2"
      }
    },
    {
      "cell_type": "code",
      "source": [
        "RAW_URL = \"https://raw.githubusercontent.com/JoseCamargo10/machinelearning-project/main/data/StudentsPerformance.csv\"\n",
        "\n",
        "def load_data():\n",
        "    data_path = Path(\"datasets\")\n",
        "    data_path.mkdir(parents=True, exist_ok=True)\n",
        "    csv_path = data_path / \"StudentsPerformance.csv\"\n",
        "\n",
        "    # Si existe pero es inválido (p.ej. HTML guardado), forzamos redescarga\n",
        "    def looks_like_html(p: Path) -> bool:\n",
        "        try:\n",
        "            head = p.read_text(encoding=\"utf-8\", errors=\"ignore\")[:200]\n",
        "            return \"<!DOCTYPE html>\" in head or \"<html\" in head.lower()\n",
        "        except Exception:\n",
        "            return False\n",
        "\n",
        "    if csv_path.is_file() and csv_path.stat().st_size > 0 and not looks_like_html(csv_path):\n",
        "        print(\"📁 Cargando datos desde caché local…\")\n",
        "        return pd.read_csv(csv_path)\n",
        "    else:\n",
        "        print(\"📥 Descargando dataset…\")\n",
        "        urllib.request.urlretrieve(RAW_URL, csv_path)\n",
        "        print(\"✅ Descarga completada\")\n",
        "        return pd.read_csv(csv_path)\n",
        "\n",
        "df = load_data()\n",
        "print(f\"\\n📊 Dataset cargado: {df.shape[0]:,} filas × {df.shape[1]} columnas\")"
      ],
      "metadata": {
        "colab": {
          "base_uri": "https://localhost:8080/"
        },
        "id": "ifBtxqaaV3QU",
        "outputId": "0ba1bcd9-242c-448c-9c4d-c1550634b05d"
      },
      "execution_count": 18,
      "outputs": [
        {
          "output_type": "stream",
          "name": "stdout",
          "text": [
            "📥 Descargando dataset…\n",
            "✅ Descarga completada\n",
            "\n",
            "📊 Dataset cargado: 1,000 filas × 8 columnas\n"
          ]
        }
      ]
    },
    {
      "cell_type": "markdown",
      "source": [
        "#### 🔎 Análisis Exploratorio de Datos"
      ],
      "metadata": {
        "id": "P965My9xXVHr"
      }
    },
    {
      "cell_type": "markdown",
      "source": [
        "**Primera inspección de datos**"
      ],
      "metadata": {
        "id": "OJ9GRqBUY5kE"
      }
    },
    {
      "cell_type": "code",
      "source": [
        "# Vista general del dataset\n",
        "print(\"=\" * 80)\n",
        "print(\"INFORMACIÓN GENERAL DEL DATASET\".center(80))\n",
        "print(\"=\" * 80)\n",
        "\n",
        "# Mostrar primeras filas con mapa de calor de la media en notas\n",
        "display(df.head().style.background_gradient(cmap='coolwarm'))\n",
        "\n",
        "# Información detallada\n",
        "print(\"\\n\" + \"=\" * 80)\n",
        "print(\"ESTRUCTURA DE DATOS\".center(80))\n",
        "print(\"=\" * 80)\n",
        "df.info()\n",
        "\n",
        "# Estadísticas descriptivas\n",
        "print(\"\\n\" + \"=\" * 80)\n",
        "print(\"ESTADÍSTICAS DESCRIPTIVAS\".center(80))\n",
        "print(\"=\" * 80)\n",
        "display(df.describe().round(2).T)"
      ],
      "metadata": {
        "colab": {
          "base_uri": "https://localhost:8080/",
          "height": 784
        },
        "collapsed": true,
        "id": "42QhCLmSY_W1",
        "outputId": "4aa5de9d-53d6-4037-9f6a-2eb772bffd96"
      },
      "execution_count": 25,
      "outputs": [
        {
          "output_type": "stream",
          "name": "stdout",
          "text": [
            "================================================================================\n",
            "                        INFORMACIÓN GENERAL DEL DATASET                         \n",
            "================================================================================\n"
          ]
        },
        {
          "output_type": "display_data",
          "data": {
            "text/plain": [
              "<pandas.io.formats.style.Styler at 0x7e7f2c207710>"
            ],
            "text/html": [
              "<style type=\"text/css\">\n",
              "#T_bb539_row0_col5 {\n",
              "  background-color: #efcfbf;\n",
              "  color: #000000;\n",
              "}\n",
              "#T_bb539_row0_col6 {\n",
              "  background-color: #bfd3f6;\n",
              "  color: #000000;\n",
              "}\n",
              "#T_bb539_row0_col7 {\n",
              "  background-color: #f3c8b2;\n",
              "  color: #000000;\n",
              "}\n",
              "#T_bb539_row1_col5 {\n",
              "  background-color: #dfdbd9;\n",
              "  color: #000000;\n",
              "}\n",
              "#T_bb539_row1_col6 {\n",
              "  background-color: #df634e;\n",
              "  color: #f1f1f1;\n",
              "}\n",
              "#T_bb539_row1_col7 {\n",
              "  background-color: #d75445;\n",
              "  color: #f1f1f1;\n",
              "}\n",
              "#T_bb539_row2_col5, #T_bb539_row2_col6, #T_bb539_row2_col7 {\n",
              "  background-color: #b40426;\n",
              "  color: #f1f1f1;\n",
              "}\n",
              "#T_bb539_row3_col5, #T_bb539_row3_col6, #T_bb539_row3_col7 {\n",
              "  background-color: #3b4cc0;\n",
              "  color: #f1f1f1;\n",
              "}\n",
              "#T_bb539_row4_col5 {\n",
              "  background-color: #f7b599;\n",
              "  color: #000000;\n",
              "}\n",
              "#T_bb539_row4_col6 {\n",
              "  background-color: #ead5c9;\n",
              "  color: #000000;\n",
              "}\n",
              "#T_bb539_row4_col7 {\n",
              "  background-color: #f5c2aa;\n",
              "  color: #000000;\n",
              "}\n",
              "</style>\n",
              "<table id=\"T_bb539\" class=\"dataframe\">\n",
              "  <thead>\n",
              "    <tr>\n",
              "      <th class=\"blank level0\" >&nbsp;</th>\n",
              "      <th id=\"T_bb539_level0_col0\" class=\"col_heading level0 col0\" >gender</th>\n",
              "      <th id=\"T_bb539_level0_col1\" class=\"col_heading level0 col1\" >race/ethnicity</th>\n",
              "      <th id=\"T_bb539_level0_col2\" class=\"col_heading level0 col2\" >parental level of education</th>\n",
              "      <th id=\"T_bb539_level0_col3\" class=\"col_heading level0 col3\" >lunch</th>\n",
              "      <th id=\"T_bb539_level0_col4\" class=\"col_heading level0 col4\" >test preparation course</th>\n",
              "      <th id=\"T_bb539_level0_col5\" class=\"col_heading level0 col5\" >math score</th>\n",
              "      <th id=\"T_bb539_level0_col6\" class=\"col_heading level0 col6\" >reading score</th>\n",
              "      <th id=\"T_bb539_level0_col7\" class=\"col_heading level0 col7\" >writing score</th>\n",
              "    </tr>\n",
              "  </thead>\n",
              "  <tbody>\n",
              "    <tr>\n",
              "      <th id=\"T_bb539_level0_row0\" class=\"row_heading level0 row0\" >0</th>\n",
              "      <td id=\"T_bb539_row0_col0\" class=\"data row0 col0\" >female</td>\n",
              "      <td id=\"T_bb539_row0_col1\" class=\"data row0 col1\" >group B</td>\n",
              "      <td id=\"T_bb539_row0_col2\" class=\"data row0 col2\" >bachelor's degree</td>\n",
              "      <td id=\"T_bb539_row0_col3\" class=\"data row0 col3\" >standard</td>\n",
              "      <td id=\"T_bb539_row0_col4\" class=\"data row0 col4\" >none</td>\n",
              "      <td id=\"T_bb539_row0_col5\" class=\"data row0 col5\" >72</td>\n",
              "      <td id=\"T_bb539_row0_col6\" class=\"data row0 col6\" >72</td>\n",
              "      <td id=\"T_bb539_row0_col7\" class=\"data row0 col7\" >74</td>\n",
              "    </tr>\n",
              "    <tr>\n",
              "      <th id=\"T_bb539_level0_row1\" class=\"row_heading level0 row1\" >1</th>\n",
              "      <td id=\"T_bb539_row1_col0\" class=\"data row1 col0\" >female</td>\n",
              "      <td id=\"T_bb539_row1_col1\" class=\"data row1 col1\" >group C</td>\n",
              "      <td id=\"T_bb539_row1_col2\" class=\"data row1 col2\" >some college</td>\n",
              "      <td id=\"T_bb539_row1_col3\" class=\"data row1 col3\" >standard</td>\n",
              "      <td id=\"T_bb539_row1_col4\" class=\"data row1 col4\" >completed</td>\n",
              "      <td id=\"T_bb539_row1_col5\" class=\"data row1 col5\" >69</td>\n",
              "      <td id=\"T_bb539_row1_col6\" class=\"data row1 col6\" >90</td>\n",
              "      <td id=\"T_bb539_row1_col7\" class=\"data row1 col7\" >88</td>\n",
              "    </tr>\n",
              "    <tr>\n",
              "      <th id=\"T_bb539_level0_row2\" class=\"row_heading level0 row2\" >2</th>\n",
              "      <td id=\"T_bb539_row2_col0\" class=\"data row2 col0\" >female</td>\n",
              "      <td id=\"T_bb539_row2_col1\" class=\"data row2 col1\" >group B</td>\n",
              "      <td id=\"T_bb539_row2_col2\" class=\"data row2 col2\" >master's degree</td>\n",
              "      <td id=\"T_bb539_row2_col3\" class=\"data row2 col3\" >standard</td>\n",
              "      <td id=\"T_bb539_row2_col4\" class=\"data row2 col4\" >none</td>\n",
              "      <td id=\"T_bb539_row2_col5\" class=\"data row2 col5\" >90</td>\n",
              "      <td id=\"T_bb539_row2_col6\" class=\"data row2 col6\" >95</td>\n",
              "      <td id=\"T_bb539_row2_col7\" class=\"data row2 col7\" >93</td>\n",
              "    </tr>\n",
              "    <tr>\n",
              "      <th id=\"T_bb539_level0_row3\" class=\"row_heading level0 row3\" >3</th>\n",
              "      <td id=\"T_bb539_row3_col0\" class=\"data row3 col0\" >male</td>\n",
              "      <td id=\"T_bb539_row3_col1\" class=\"data row3 col1\" >group A</td>\n",
              "      <td id=\"T_bb539_row3_col2\" class=\"data row3 col2\" >associate's degree</td>\n",
              "      <td id=\"T_bb539_row3_col3\" class=\"data row3 col3\" >free/reduced</td>\n",
              "      <td id=\"T_bb539_row3_col4\" class=\"data row3 col4\" >none</td>\n",
              "      <td id=\"T_bb539_row3_col5\" class=\"data row3 col5\" >47</td>\n",
              "      <td id=\"T_bb539_row3_col6\" class=\"data row3 col6\" >57</td>\n",
              "      <td id=\"T_bb539_row3_col7\" class=\"data row3 col7\" >44</td>\n",
              "    </tr>\n",
              "    <tr>\n",
              "      <th id=\"T_bb539_level0_row4\" class=\"row_heading level0 row4\" >4</th>\n",
              "      <td id=\"T_bb539_row4_col0\" class=\"data row4 col0\" >male</td>\n",
              "      <td id=\"T_bb539_row4_col1\" class=\"data row4 col1\" >group C</td>\n",
              "      <td id=\"T_bb539_row4_col2\" class=\"data row4 col2\" >some college</td>\n",
              "      <td id=\"T_bb539_row4_col3\" class=\"data row4 col3\" >standard</td>\n",
              "      <td id=\"T_bb539_row4_col4\" class=\"data row4 col4\" >none</td>\n",
              "      <td id=\"T_bb539_row4_col5\" class=\"data row4 col5\" >76</td>\n",
              "      <td id=\"T_bb539_row4_col6\" class=\"data row4 col6\" >78</td>\n",
              "      <td id=\"T_bb539_row4_col7\" class=\"data row4 col7\" >75</td>\n",
              "    </tr>\n",
              "  </tbody>\n",
              "</table>\n"
            ]
          },
          "metadata": {}
        },
        {
          "output_type": "stream",
          "name": "stdout",
          "text": [
            "\n",
            "================================================================================\n",
            "                              ESTRUCTURA DE DATOS                               \n",
            "================================================================================\n",
            "<class 'pandas.core.frame.DataFrame'>\n",
            "RangeIndex: 1000 entries, 0 to 999\n",
            "Data columns (total 8 columns):\n",
            " #   Column                       Non-Null Count  Dtype \n",
            "---  ------                       --------------  ----- \n",
            " 0   gender                       1000 non-null   object\n",
            " 1   race/ethnicity               1000 non-null   object\n",
            " 2   parental level of education  1000 non-null   object\n",
            " 3   lunch                        1000 non-null   object\n",
            " 4   test preparation course      1000 non-null   object\n",
            " 5   math score                   1000 non-null   int64 \n",
            " 6   reading score                1000 non-null   int64 \n",
            " 7   writing score                1000 non-null   int64 \n",
            "dtypes: int64(3), object(5)\n",
            "memory usage: 62.6+ KB\n",
            "\n",
            "================================================================================\n",
            "                           ESTADÍSTICAS DESCRIPTIVAS                            \n",
            "================================================================================\n"
          ]
        },
        {
          "output_type": "display_data",
          "data": {
            "text/plain": [
              "                count  mean   std   min   25%   50%   75%    max\n",
              "math score    1000.00 66.09 15.16  0.00 57.00 66.00 77.00 100.00\n",
              "reading score 1000.00 69.17 14.60 17.00 59.00 70.00 79.00 100.00\n",
              "writing score 1000.00 68.05 15.20 10.00 57.75 69.00 79.00 100.00"
            ],
            "text/html": [
              "\n",
              "  <div id=\"df-1dbab33f-519b-4cfa-b388-3bb4ab316f49\" class=\"colab-df-container\">\n",
              "    <div>\n",
              "<style scoped>\n",
              "    .dataframe tbody tr th:only-of-type {\n",
              "        vertical-align: middle;\n",
              "    }\n",
              "\n",
              "    .dataframe tbody tr th {\n",
              "        vertical-align: top;\n",
              "    }\n",
              "\n",
              "    .dataframe thead th {\n",
              "        text-align: right;\n",
              "    }\n",
              "</style>\n",
              "<table border=\"1\" class=\"dataframe\">\n",
              "  <thead>\n",
              "    <tr style=\"text-align: right;\">\n",
              "      <th></th>\n",
              "      <th>count</th>\n",
              "      <th>mean</th>\n",
              "      <th>std</th>\n",
              "      <th>min</th>\n",
              "      <th>25%</th>\n",
              "      <th>50%</th>\n",
              "      <th>75%</th>\n",
              "      <th>max</th>\n",
              "    </tr>\n",
              "  </thead>\n",
              "  <tbody>\n",
              "    <tr>\n",
              "      <th>math score</th>\n",
              "      <td>1000.00</td>\n",
              "      <td>66.09</td>\n",
              "      <td>15.16</td>\n",
              "      <td>0.00</td>\n",
              "      <td>57.00</td>\n",
              "      <td>66.00</td>\n",
              "      <td>77.00</td>\n",
              "      <td>100.00</td>\n",
              "    </tr>\n",
              "    <tr>\n",
              "      <th>reading score</th>\n",
              "      <td>1000.00</td>\n",
              "      <td>69.17</td>\n",
              "      <td>14.60</td>\n",
              "      <td>17.00</td>\n",
              "      <td>59.00</td>\n",
              "      <td>70.00</td>\n",
              "      <td>79.00</td>\n",
              "      <td>100.00</td>\n",
              "    </tr>\n",
              "    <tr>\n",
              "      <th>writing score</th>\n",
              "      <td>1000.00</td>\n",
              "      <td>68.05</td>\n",
              "      <td>15.20</td>\n",
              "      <td>10.00</td>\n",
              "      <td>57.75</td>\n",
              "      <td>69.00</td>\n",
              "      <td>79.00</td>\n",
              "      <td>100.00</td>\n",
              "    </tr>\n",
              "  </tbody>\n",
              "</table>\n",
              "</div>\n",
              "    <div class=\"colab-df-buttons\">\n",
              "\n",
              "  <div class=\"colab-df-container\">\n",
              "    <button class=\"colab-df-convert\" onclick=\"convertToInteractive('df-1dbab33f-519b-4cfa-b388-3bb4ab316f49')\"\n",
              "            title=\"Convert this dataframe to an interactive table.\"\n",
              "            style=\"display:none;\">\n",
              "\n",
              "  <svg xmlns=\"http://www.w3.org/2000/svg\" height=\"24px\" viewBox=\"0 -960 960 960\">\n",
              "    <path d=\"M120-120v-720h720v720H120Zm60-500h600v-160H180v160Zm220 220h160v-160H400v160Zm0 220h160v-160H400v160ZM180-400h160v-160H180v160Zm440 0h160v-160H620v160ZM180-180h160v-160H180v160Zm440 0h160v-160H620v160Z\"/>\n",
              "  </svg>\n",
              "    </button>\n",
              "\n",
              "  <style>\n",
              "    .colab-df-container {\n",
              "      display:flex;\n",
              "      gap: 12px;\n",
              "    }\n",
              "\n",
              "    .colab-df-convert {\n",
              "      background-color: #E8F0FE;\n",
              "      border: none;\n",
              "      border-radius: 50%;\n",
              "      cursor: pointer;\n",
              "      display: none;\n",
              "      fill: #1967D2;\n",
              "      height: 32px;\n",
              "      padding: 0 0 0 0;\n",
              "      width: 32px;\n",
              "    }\n",
              "\n",
              "    .colab-df-convert:hover {\n",
              "      background-color: #E2EBFA;\n",
              "      box-shadow: 0px 1px 2px rgba(60, 64, 67, 0.3), 0px 1px 3px 1px rgba(60, 64, 67, 0.15);\n",
              "      fill: #174EA6;\n",
              "    }\n",
              "\n",
              "    .colab-df-buttons div {\n",
              "      margin-bottom: 4px;\n",
              "    }\n",
              "\n",
              "    [theme=dark] .colab-df-convert {\n",
              "      background-color: #3B4455;\n",
              "      fill: #D2E3FC;\n",
              "    }\n",
              "\n",
              "    [theme=dark] .colab-df-convert:hover {\n",
              "      background-color: #434B5C;\n",
              "      box-shadow: 0px 1px 3px 1px rgba(0, 0, 0, 0.15);\n",
              "      filter: drop-shadow(0px 1px 2px rgba(0, 0, 0, 0.3));\n",
              "      fill: #FFFFFF;\n",
              "    }\n",
              "  </style>\n",
              "\n",
              "    <script>\n",
              "      const buttonEl =\n",
              "        document.querySelector('#df-1dbab33f-519b-4cfa-b388-3bb4ab316f49 button.colab-df-convert');\n",
              "      buttonEl.style.display =\n",
              "        google.colab.kernel.accessAllowed ? 'block' : 'none';\n",
              "\n",
              "      async function convertToInteractive(key) {\n",
              "        const element = document.querySelector('#df-1dbab33f-519b-4cfa-b388-3bb4ab316f49');\n",
              "        const dataTable =\n",
              "          await google.colab.kernel.invokeFunction('convertToInteractive',\n",
              "                                                    [key], {});\n",
              "        if (!dataTable) return;\n",
              "\n",
              "        const docLinkHtml = 'Like what you see? Visit the ' +\n",
              "          '<a target=\"_blank\" href=https://colab.research.google.com/notebooks/data_table.ipynb>data table notebook</a>'\n",
              "          + ' to learn more about interactive tables.';\n",
              "        element.innerHTML = '';\n",
              "        dataTable['output_type'] = 'display_data';\n",
              "        await google.colab.output.renderOutput(dataTable, element);\n",
              "        const docLink = document.createElement('div');\n",
              "        docLink.innerHTML = docLinkHtml;\n",
              "        element.appendChild(docLink);\n",
              "      }\n",
              "    </script>\n",
              "  </div>\n",
              "\n",
              "\n",
              "    <div id=\"df-1b680460-9aa6-43e6-a68c-15767d8d03df\">\n",
              "      <button class=\"colab-df-quickchart\" onclick=\"quickchart('df-1b680460-9aa6-43e6-a68c-15767d8d03df')\"\n",
              "                title=\"Suggest charts\"\n",
              "                style=\"display:none;\">\n",
              "\n",
              "<svg xmlns=\"http://www.w3.org/2000/svg\" height=\"24px\"viewBox=\"0 0 24 24\"\n",
              "     width=\"24px\">\n",
              "    <g>\n",
              "        <path d=\"M19 3H5c-1.1 0-2 .9-2 2v14c0 1.1.9 2 2 2h14c1.1 0 2-.9 2-2V5c0-1.1-.9-2-2-2zM9 17H7v-7h2v7zm4 0h-2V7h2v10zm4 0h-2v-4h2v4z\"/>\n",
              "    </g>\n",
              "</svg>\n",
              "      </button>\n",
              "\n",
              "<style>\n",
              "  .colab-df-quickchart {\n",
              "      --bg-color: #E8F0FE;\n",
              "      --fill-color: #1967D2;\n",
              "      --hover-bg-color: #E2EBFA;\n",
              "      --hover-fill-color: #174EA6;\n",
              "      --disabled-fill-color: #AAA;\n",
              "      --disabled-bg-color: #DDD;\n",
              "  }\n",
              "\n",
              "  [theme=dark] .colab-df-quickchart {\n",
              "      --bg-color: #3B4455;\n",
              "      --fill-color: #D2E3FC;\n",
              "      --hover-bg-color: #434B5C;\n",
              "      --hover-fill-color: #FFFFFF;\n",
              "      --disabled-bg-color: #3B4455;\n",
              "      --disabled-fill-color: #666;\n",
              "  }\n",
              "\n",
              "  .colab-df-quickchart {\n",
              "    background-color: var(--bg-color);\n",
              "    border: none;\n",
              "    border-radius: 50%;\n",
              "    cursor: pointer;\n",
              "    display: none;\n",
              "    fill: var(--fill-color);\n",
              "    height: 32px;\n",
              "    padding: 0;\n",
              "    width: 32px;\n",
              "  }\n",
              "\n",
              "  .colab-df-quickchart:hover {\n",
              "    background-color: var(--hover-bg-color);\n",
              "    box-shadow: 0 1px 2px rgba(60, 64, 67, 0.3), 0 1px 3px 1px rgba(60, 64, 67, 0.15);\n",
              "    fill: var(--button-hover-fill-color);\n",
              "  }\n",
              "\n",
              "  .colab-df-quickchart-complete:disabled,\n",
              "  .colab-df-quickchart-complete:disabled:hover {\n",
              "    background-color: var(--disabled-bg-color);\n",
              "    fill: var(--disabled-fill-color);\n",
              "    box-shadow: none;\n",
              "  }\n",
              "\n",
              "  .colab-df-spinner {\n",
              "    border: 2px solid var(--fill-color);\n",
              "    border-color: transparent;\n",
              "    border-bottom-color: var(--fill-color);\n",
              "    animation:\n",
              "      spin 1s steps(1) infinite;\n",
              "  }\n",
              "\n",
              "  @keyframes spin {\n",
              "    0% {\n",
              "      border-color: transparent;\n",
              "      border-bottom-color: var(--fill-color);\n",
              "      border-left-color: var(--fill-color);\n",
              "    }\n",
              "    20% {\n",
              "      border-color: transparent;\n",
              "      border-left-color: var(--fill-color);\n",
              "      border-top-color: var(--fill-color);\n",
              "    }\n",
              "    30% {\n",
              "      border-color: transparent;\n",
              "      border-left-color: var(--fill-color);\n",
              "      border-top-color: var(--fill-color);\n",
              "      border-right-color: var(--fill-color);\n",
              "    }\n",
              "    40% {\n",
              "      border-color: transparent;\n",
              "      border-right-color: var(--fill-color);\n",
              "      border-top-color: var(--fill-color);\n",
              "    }\n",
              "    60% {\n",
              "      border-color: transparent;\n",
              "      border-right-color: var(--fill-color);\n",
              "    }\n",
              "    80% {\n",
              "      border-color: transparent;\n",
              "      border-right-color: var(--fill-color);\n",
              "      border-bottom-color: var(--fill-color);\n",
              "    }\n",
              "    90% {\n",
              "      border-color: transparent;\n",
              "      border-bottom-color: var(--fill-color);\n",
              "    }\n",
              "  }\n",
              "</style>\n",
              "\n",
              "      <script>\n",
              "        async function quickchart(key) {\n",
              "          const quickchartButtonEl =\n",
              "            document.querySelector('#' + key + ' button');\n",
              "          quickchartButtonEl.disabled = true;  // To prevent multiple clicks.\n",
              "          quickchartButtonEl.classList.add('colab-df-spinner');\n",
              "          try {\n",
              "            const charts = await google.colab.kernel.invokeFunction(\n",
              "                'suggestCharts', [key], {});\n",
              "          } catch (error) {\n",
              "            console.error('Error during call to suggestCharts:', error);\n",
              "          }\n",
              "          quickchartButtonEl.classList.remove('colab-df-spinner');\n",
              "          quickchartButtonEl.classList.add('colab-df-quickchart-complete');\n",
              "        }\n",
              "        (() => {\n",
              "          let quickchartButtonEl =\n",
              "            document.querySelector('#df-1b680460-9aa6-43e6-a68c-15767d8d03df button');\n",
              "          quickchartButtonEl.style.display =\n",
              "            google.colab.kernel.accessAllowed ? 'block' : 'none';\n",
              "        })();\n",
              "      </script>\n",
              "    </div>\n",
              "\n",
              "    </div>\n",
              "  </div>\n"
            ],
            "application/vnd.google.colaboratory.intrinsic+json": {
              "type": "dataframe",
              "summary": "{\n  \"name\": \"display(df\",\n  \"rows\": 3,\n  \"fields\": [\n    {\n      \"column\": \"count\",\n      \"properties\": {\n        \"dtype\": \"number\",\n        \"std\": 0.0,\n        \"min\": 1000.0,\n        \"max\": 1000.0,\n        \"num_unique_values\": 1,\n        \"samples\": [\n          1000.0\n        ],\n        \"semantic_type\": \"\",\n        \"description\": \"\"\n      }\n    },\n    {\n      \"column\": \"mean\",\n      \"properties\": {\n        \"dtype\": \"number\",\n        \"std\": 1.5589740215924048,\n        \"min\": 66.09,\n        \"max\": 69.17,\n        \"num_unique_values\": 3,\n        \"samples\": [\n          66.09\n        ],\n        \"semantic_type\": \"\",\n        \"description\": \"\"\n      }\n    },\n    {\n      \"column\": \"std\",\n      \"properties\": {\n        \"dtype\": \"number\",\n        \"std\": 0.3354598833442433,\n        \"min\": 14.6,\n        \"max\": 15.2,\n        \"num_unique_values\": 3,\n        \"samples\": [\n          15.16\n        ],\n        \"semantic_type\": \"\",\n        \"description\": \"\"\n      }\n    },\n    {\n      \"column\": \"min\",\n      \"properties\": {\n        \"dtype\": \"number\",\n        \"std\": 8.54400374531753,\n        \"min\": 0.0,\n        \"max\": 17.0,\n        \"num_unique_values\": 3,\n        \"samples\": [\n          0.0\n        ],\n        \"semantic_type\": \"\",\n        \"description\": \"\"\n      }\n    },\n    {\n      \"column\": \"25%\",\n      \"properties\": {\n        \"dtype\": \"number\",\n        \"std\": 1.0103629710818451,\n        \"min\": 57.0,\n        \"max\": 59.0,\n        \"num_unique_values\": 3,\n        \"samples\": [\n          57.0\n        ],\n        \"semantic_type\": \"\",\n        \"description\": \"\"\n      }\n    },\n    {\n      \"column\": \"50%\",\n      \"properties\": {\n        \"dtype\": \"number\",\n        \"std\": 2.0816659994661326,\n        \"min\": 66.0,\n        \"max\": 70.0,\n        \"num_unique_values\": 3,\n        \"samples\": [\n          66.0\n        ],\n        \"semantic_type\": \"\",\n        \"description\": \"\"\n      }\n    },\n    {\n      \"column\": \"75%\",\n      \"properties\": {\n        \"dtype\": \"number\",\n        \"std\": 1.1547005383792517,\n        \"min\": 77.0,\n        \"max\": 79.0,\n        \"num_unique_values\": 2,\n        \"samples\": [\n          79.0\n        ],\n        \"semantic_type\": \"\",\n        \"description\": \"\"\n      }\n    },\n    {\n      \"column\": \"max\",\n      \"properties\": {\n        \"dtype\": \"number\",\n        \"std\": 0.0,\n        \"min\": 100.0,\n        \"max\": 100.0,\n        \"num_unique_values\": 1,\n        \"samples\": [\n          100.0\n        ],\n        \"semantic_type\": \"\",\n        \"description\": \"\"\n      }\n    }\n  ]\n}"
            }
          },
          "metadata": {}
        }
      ]
    },
    {
      "cell_type": "markdown",
      "source": [
        "**Pendientes:**\n",
        "- Entender y registrar cada variable del dataset (qué es y que dice cada columna).\n",
        "- Hay valores faltantes? Si si explicar (pero 99% seguro que no faltan valores).\n",
        "- Sacar estadísticas hasta Correlación."
      ],
      "metadata": {
        "id": "xN_4YvyXZuz2"
      }
    }
  ]
}